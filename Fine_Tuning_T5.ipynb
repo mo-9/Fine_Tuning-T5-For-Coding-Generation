{
 "cells": [
  {
   "cell_type": "code",
   "execution_count": 1,
   "id": "3c172160-29cc-48ec-8bc0-18368dcba77e",
   "metadata": {},
   "outputs": [
    {
     "data": {
      "text/html": [
       "<div>\n",
       "<style scoped>\n",
       "    .dataframe tbody tr th:only-of-type {\n",
       "        vertical-align: middle;\n",
       "    }\n",
       "\n",
       "    .dataframe tbody tr th {\n",
       "        vertical-align: top;\n",
       "    }\n",
       "\n",
       "    .dataframe thead th {\n",
       "        text-align: right;\n",
       "    }\n",
       "</style>\n",
       "<table border=\"1\" class=\"dataframe\">\n",
       "  <thead>\n",
       "    <tr style=\"text-align: right;\">\n",
       "      <th></th>\n",
       "      <th>Query</th>\n",
       "      <th>Code_Snippet</th>\n",
       "      <th>Language</th>\n",
       "      <th>Tags</th>\n",
       "    </tr>\n",
       "  </thead>\n",
       "  <tbody>\n",
       "    <tr>\n",
       "      <th>0</th>\n",
       "      <td>How to create a list comprehension in Python?</td>\n",
       "      <td>[x**2 for x in range(10)]</td>\n",
       "      <td>Python</td>\n",
       "      <td>tutorial</td>\n",
       "    </tr>\n",
       "    <tr>\n",
       "      <th>1</th>\n",
       "      <td>How to handle missing data in pandas?</td>\n",
       "      <td>df.fillna(0, inplace=True)</td>\n",
       "      <td>Python</td>\n",
       "      <td>example</td>\n",
       "    </tr>\n",
       "    <tr>\n",
       "      <th>2</th>\n",
       "      <td>How to use a lambda function in Python?</td>\n",
       "      <td>lambda x: x + 2</td>\n",
       "      <td>Python</td>\n",
       "      <td>advanced</td>\n",
       "    </tr>\n",
       "    <tr>\n",
       "      <th>3</th>\n",
       "      <td>How to create a REST API in Flask?</td>\n",
       "      <td>from flask import Flask\\napp = Flask(__name__)...</td>\n",
       "      <td>Python</td>\n",
       "      <td>tutorial</td>\n",
       "    </tr>\n",
       "    <tr>\n",
       "      <th>4</th>\n",
       "      <td>How to perform matrix multiplication in numpy?</td>\n",
       "      <td>import numpy as np\\nnp.dot(A, B)</td>\n",
       "      <td>Python</td>\n",
       "      <td>advanced</td>\n",
       "    </tr>\n",
       "    <tr>\n",
       "      <th>...</th>\n",
       "      <td>...</td>\n",
       "      <td>...</td>\n",
       "      <td>...</td>\n",
       "      <td>...</td>\n",
       "    </tr>\n",
       "    <tr>\n",
       "      <th>3015</th>\n",
       "      <td>How to implement a class in C++?</td>\n",
       "      <td>class MyClass {\\npublic:\\n    void myMethod() ...</td>\n",
       "      <td>C++</td>\n",
       "      <td>tutorial</td>\n",
       "    </tr>\n",
       "    <tr>\n",
       "      <th>3016</th>\n",
       "      <td>How to use pointers in C++?</td>\n",
       "      <td>int x = 10;\\nint* ptr = &amp;x;</td>\n",
       "      <td>C++</td>\n",
       "      <td>advanced</td>\n",
       "    </tr>\n",
       "    <tr>\n",
       "      <th>3017</th>\n",
       "      <td>How to read a file in C++?</td>\n",
       "      <td>#include &lt;fstream&gt;\\nstd::ifstream file('file.t...</td>\n",
       "      <td>C++</td>\n",
       "      <td>common-issues</td>\n",
       "    </tr>\n",
       "    <tr>\n",
       "      <th>3018</th>\n",
       "      <td>How to create a vector in C++?</td>\n",
       "      <td>#include &lt;vector&gt;\\nstd::vector&lt;int&gt; v = {1, 2,...</td>\n",
       "      <td>C++</td>\n",
       "      <td>tutorial</td>\n",
       "    </tr>\n",
       "    <tr>\n",
       "      <th>3019</th>\n",
       "      <td>How to overload operators in C++?</td>\n",
       "      <td>class Complex {\\n    Complex operator+(const C...</td>\n",
       "      <td>C++</td>\n",
       "      <td>tutorial</td>\n",
       "    </tr>\n",
       "  </tbody>\n",
       "</table>\n",
       "<p>3020 rows × 4 columns</p>\n",
       "</div>"
      ],
      "text/plain": [
       "                                               Query  \\\n",
       "0      How to create a list comprehension in Python?   \n",
       "1              How to handle missing data in pandas?   \n",
       "2            How to use a lambda function in Python?   \n",
       "3                 How to create a REST API in Flask?   \n",
       "4     How to perform matrix multiplication in numpy?   \n",
       "...                                              ...   \n",
       "3015                How to implement a class in C++?   \n",
       "3016                     How to use pointers in C++?   \n",
       "3017                      How to read a file in C++?   \n",
       "3018                  How to create a vector in C++?   \n",
       "3019               How to overload operators in C++?   \n",
       "\n",
       "                                           Code_Snippet Language  \\\n",
       "0                             [x**2 for x in range(10)]   Python   \n",
       "1                            df.fillna(0, inplace=True)   Python   \n",
       "2                                       lambda x: x + 2   Python   \n",
       "3     from flask import Flask\\napp = Flask(__name__)...   Python   \n",
       "4                      import numpy as np\\nnp.dot(A, B)   Python   \n",
       "...                                                 ...      ...   \n",
       "3015  class MyClass {\\npublic:\\n    void myMethod() ...      C++   \n",
       "3016                        int x = 10;\\nint* ptr = &x;      C++   \n",
       "3017  #include <fstream>\\nstd::ifstream file('file.t...      C++   \n",
       "3018  #include <vector>\\nstd::vector<int> v = {1, 2,...      C++   \n",
       "3019  class Complex {\\n    Complex operator+(const C...      C++   \n",
       "\n",
       "               Tags  \n",
       "0          tutorial  \n",
       "1           example  \n",
       "2          advanced  \n",
       "3          tutorial  \n",
       "4          advanced  \n",
       "...             ...  \n",
       "3015       tutorial  \n",
       "3016       advanced  \n",
       "3017  common-issues  \n",
       "3018       tutorial  \n",
       "3019       tutorial  \n",
       "\n",
       "[3020 rows x 4 columns]"
      ]
     },
     "execution_count": 1,
     "metadata": {},
     "output_type": "execute_result"
    }
   ],
   "source": [
    "\n",
    "import pandas as pd\n",
    "\n",
    "df = pd.read_csv(\"extended_programming_code_snippets.csv\")\n",
    "df"
   ]
  },
  {
   "cell_type": "code",
   "execution_count": 2,
   "id": "7a916c84-f7ff-4c53-bce3-621e6e1bfef3",
   "metadata": {},
   "outputs": [
    {
     "data": {
      "text/plain": [
       "Language\n",
       "SQL           627\n",
       "Java          618\n",
       "Shell         601\n",
       "JavaScript    595\n",
       "Python        574\n",
       "C++             5\n",
       "Name: count, dtype: int64"
      ]
     },
     "execution_count": 2,
     "metadata": {},
     "output_type": "execute_result"
    }
   ],
   "source": [
    "df['Language'].value_counts()\n"
   ]
  },
  {
   "cell_type": "code",
   "execution_count": 3,
   "id": "367f83aa-edde-4101-a808-781648ed237c",
   "metadata": {},
   "outputs": [],
   "source": [
    "\n",
    "# Convert all text columns to lowercase\n",
    "df['Query'] = df['Query'].str.lower()\n",
    "df['Code_Snippet'] = df['Code_Snippet'].str.lower()\n",
    "df['Tags'] = df['Tags'].str.lower()"
   ]
  },
  {
   "cell_type": "code",
   "execution_count": 4,
   "id": "c3f059b7-3324-4f4e-a39f-7302422c1ff9",
   "metadata": {},
   "outputs": [
    {
     "name": "stderr",
     "output_type": "stream",
     "text": [
      "C:\\Users\\Mohamed\\miniconda3\\Lib\\site-packages\\tqdm\\auto.py:21: TqdmWarning: IProgress not found. Please update jupyter and ipywidgets. See https://ipywidgets.readthedocs.io/en/stable/user_install.html\n",
      "  from .autonotebook import tqdm as notebook_tqdm\n",
      "You are using the default legacy behaviour of the <class 'transformers.models.t5.tokenization_t5.T5Tokenizer'>. This is expected, and simply means that the `legacy` (previous) behavior will be used so nothing changes for you. If you want to use the new behaviour, set `legacy=False`. This should only be set if you understand what it means, and thoroughly read the reason why this was added as explained in https://github.com/huggingface/transformers/pull/24565\n"
     ]
    }
   ],
   "source": [
    "from transformers import T5Tokenizer\n",
    "\n",
    "tokenizer = T5Tokenizer.from_pretrained(\"t5-small\")\n",
    "\n",
    "def preprocess_data(data):\n",
    "    inputs = [\"generate code: \" + query for query in data[\"Query\"]]\n",
    "    targets = data[\"Code_Snippet\"].tolist()\n",
    "    input_encodings = tokenizer(inputs, max_length=128, truncation=True, padding=\"max_length\", return_tensors=\"pt\")\n",
    "    target_encodings = tokenizer(targets, max_length=128, truncation=True, padding=\"max_length\", return_tensors=\"pt\")\n",
    "    return input_encodings, target_encodings\n",
    "\n",
    "input_encodings, target_encodings = preprocess_data(df)"
   ]
  },
  {
   "cell_type": "code",
   "execution_count": 5,
   "id": "abe03594-7521-49fb-b8c1-791f6f2d507b",
   "metadata": {},
   "outputs": [],
   "source": [
    "\n",
    "import torch\n",
    "\n",
    "class CodeSnippetDataset(torch.utils.data.Dataset):\n",
    "    def __init__(self, inputs, targets):\n",
    "        self.inputs = inputs\n",
    "        self.targets = targets\n",
    "\n",
    "    def __len__(self):\n",
    "        return len(self.inputs[\"input_ids\"])\n",
    "\n",
    "    def __getitem__(self, idx):\n",
    "        return {\n",
    "            \"input_ids\": self.inputs[\"input_ids\"][idx],\n",
    "            \"attention_mask\": self.inputs[\"attention_mask\"][idx],\n",
    "            \"labels\": self.targets[\"input_ids\"][idx],\n",
    "        }\n",
    "\n",
    "dataset = CodeSnippetDataset(input_encodings, target_encodings)"
   ]
  },
  {
   "cell_type": "code",
   "execution_count": 6,
   "id": "bf6db73c-d965-407c-bbf3-4cbfe02590c8",
   "metadata": {},
   "outputs": [
    {
     "name": "stderr",
     "output_type": "stream",
     "text": [
      "C:\\Users\\Mohamed\\miniconda3\\Lib\\site-packages\\torchvision\\datapoints\\__init__.py:12: UserWarning: The torchvision.datapoints and torchvision.transforms.v2 namespaces are still Beta. While we do not expect major breaking changes, some APIs may still change according to user feedback. Please submit any feedback you may have in this issue: https://github.com/pytorch/vision/issues/6753, and you can also check out https://github.com/pytorch/vision/issues/7319 to learn more about the APIs that we suspect might involve future changes. You can silence this warning by calling torchvision.disable_beta_transforms_warning().\n",
      "  warnings.warn(_BETA_TRANSFORMS_WARNING)\n",
      "C:\\Users\\Mohamed\\miniconda3\\Lib\\site-packages\\torchvision\\transforms\\v2\\__init__.py:54: UserWarning: The torchvision.datapoints and torchvision.transforms.v2 namespaces are still Beta. While we do not expect major breaking changes, some APIs may still change according to user feedback. Please submit any feedback you may have in this issue: https://github.com/pytorch/vision/issues/6753, and you can also check out https://github.com/pytorch/vision/issues/7319 to learn more about the APIs that we suspect might involve future changes. You can silence this warning by calling torchvision.disable_beta_transforms_warning().\n",
      "  warnings.warn(_BETA_TRANSFORMS_WARNING)\n",
      "C:\\Users\\Mohamed\\miniconda3\\Lib\\site-packages\\transformers\\training_args.py:1575: FutureWarning: `evaluation_strategy` is deprecated and will be removed in version 4.46 of 🤗 Transformers. Use `eval_strategy` instead\n",
      "  warnings.warn(\n",
      "Passing a tuple of `past_key_values` is deprecated and will be removed in Transformers v4.48.0. You should pass an instance of `EncoderDecoderCache` instead, e.g. `past_key_values=EncoderDecoderCache.from_legacy_cache(past_key_values)`.\n"
     ]
    },
    {
     "data": {
      "text/html": [
       "\n",
       "    <div>\n",
       "      \n",
       "      <progress value='7550' max='7550' style='width:300px; height:20px; vertical-align: middle;'></progress>\n",
       "      [7550/7550 16:44, Epoch 10/10]\n",
       "    </div>\n",
       "    <table border=\"1\" class=\"dataframe\">\n",
       "  <thead>\n",
       " <tr style=\"text-align: left;\">\n",
       "      <th>Epoch</th>\n",
       "      <th>Training Loss</th>\n",
       "      <th>Validation Loss</th>\n",
       "    </tr>\n",
       "  </thead>\n",
       "  <tbody>\n",
       "    <tr>\n",
       "      <td>1</td>\n",
       "      <td>1.156000</td>\n",
       "      <td>0.052419</td>\n",
       "    </tr>\n",
       "    <tr>\n",
       "      <td>2</td>\n",
       "      <td>0.063400</td>\n",
       "      <td>0.010060</td>\n",
       "    </tr>\n",
       "    <tr>\n",
       "      <td>3</td>\n",
       "      <td>0.035200</td>\n",
       "      <td>0.008720</td>\n",
       "    </tr>\n",
       "    <tr>\n",
       "      <td>4</td>\n",
       "      <td>0.019000</td>\n",
       "      <td>0.008079</td>\n",
       "    </tr>\n",
       "    <tr>\n",
       "      <td>5</td>\n",
       "      <td>0.016500</td>\n",
       "      <td>0.007408</td>\n",
       "    </tr>\n",
       "    <tr>\n",
       "      <td>6</td>\n",
       "      <td>0.012000</td>\n",
       "      <td>0.006829</td>\n",
       "    </tr>\n",
       "    <tr>\n",
       "      <td>7</td>\n",
       "      <td>0.010500</td>\n",
       "      <td>0.006321</td>\n",
       "    </tr>\n",
       "    <tr>\n",
       "      <td>8</td>\n",
       "      <td>0.010300</td>\n",
       "      <td>0.005919</td>\n",
       "    </tr>\n",
       "    <tr>\n",
       "      <td>9</td>\n",
       "      <td>0.010600</td>\n",
       "      <td>0.005675</td>\n",
       "    </tr>\n",
       "    <tr>\n",
       "      <td>10</td>\n",
       "      <td>0.011600</td>\n",
       "      <td>0.005590</td>\n",
       "    </tr>\n",
       "  </tbody>\n",
       "</table><p>"
      ],
      "text/plain": [
       "<IPython.core.display.HTML object>"
      ]
     },
     "metadata": {},
     "output_type": "display_data"
    },
    {
     "name": "stderr",
     "output_type": "stream",
     "text": [
      "There were missing keys in the checkpoint model loaded: ['encoder.embed_tokens.weight', 'decoder.embed_tokens.weight', 'lm_head.weight'].\n"
     ]
    },
    {
     "data": {
      "text/plain": [
       "TrainOutput(global_step=7550, training_loss=0.10508741058458555, metrics={'train_runtime': 1006.4158, 'train_samples_per_second': 30.007, 'train_steps_per_second': 7.502, 'total_flos': 1021830601113600.0, 'train_loss': 0.10508741058458555, 'epoch': 10.0})"
      ]
     },
     "execution_count": 6,
     "metadata": {},
     "output_type": "execute_result"
    }
   ],
   "source": [
    "from transformers import T5ForConditionalGeneration, Trainer, TrainingArguments\n",
    "import torch\n",
    "\n",
    "device = torch.device(\"cuda\" if torch.cuda.is_available() else \"cpu\")\n",
    "\n",
    "model = T5ForConditionalGeneration.from_pretrained(\"t5-small\").to(device)\n",
    "\n",
    "training_args = TrainingArguments(\n",
    "    output_dir=\"./t5_finetuned\",\n",
    "    evaluation_strategy=\"epoch\",  \n",
    "    save_strategy=\"epoch\",        \n",
    "    learning_rate=5e-5,\n",
    "    per_device_train_batch_size=4,  \n",
    "    per_device_eval_batch_size=4,   \n",
    "    num_train_epochs=10,            \n",
    "    weight_decay=0.01,\n",
    "    logging_dir=\"./logs\",\n",
    "    logging_steps=500,             \n",
    "    save_total_limit=1,            \n",
    "    load_best_model_at_end=True,\n",
    "    fp16=True,                     \n",
    ")\n",
    "\n",
    "# Create the Trainer\n",
    "trainer = Trainer(\n",
    "    model=model,\n",
    "    args=training_args,\n",
    "    train_dataset=dataset,\n",
    "    eval_dataset=dataset,\n",
    ")\n",
    "\n",
    "# Train the model\n",
    "trainer.train()\n"
   ]
  },
  {
   "cell_type": "code",
   "execution_count": 7,
   "id": "a19ab9fd-3f65-45cc-bcb2-41941b6e00de",
   "metadata": {},
   "outputs": [
    {
     "data": {
      "text/plain": [
       "('t5_finetuned_model\\\\tokenizer_config.json',\n",
       " 't5_finetuned_model\\\\special_tokens_map.json',\n",
       " 't5_finetuned_model\\\\spiece.model',\n",
       " 't5_finetuned_model\\\\added_tokens.json')"
      ]
     },
     "execution_count": 7,
     "metadata": {},
     "output_type": "execute_result"
    }
   ],
   "source": [
    "\n",
    "model.save_pretrained(\"t5_finetuned_model\")\n",
    "tokenizer.save_pretrained(\"t5_finetuned_model\")"
   ]
  },
  {
   "cell_type": "code",
   "execution_count": null,
   "id": "cf4b3a58-4487-4e76-8826-6b0e2c97424d",
   "metadata": {},
   "outputs": [],
   "source": []
  }
 ],
 "metadata": {
  "kernelspec": {
   "display_name": "Python 3 (ipykernel)",
   "language": "python",
   "name": "python3"
  },
  "language_info": {
   "codemirror_mode": {
    "name": "ipython",
    "version": 3
   },
   "file_extension": ".py",
   "mimetype": "text/x-python",
   "name": "python",
   "nbconvert_exporter": "python",
   "pygments_lexer": "ipython3",
   "version": "3.11.9"
  }
 },
 "nbformat": 4,
 "nbformat_minor": 5
}
